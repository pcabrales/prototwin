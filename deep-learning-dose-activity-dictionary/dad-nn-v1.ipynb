{
 "cells": [
  {
   "cell_type": "markdown",
   "metadata": {},
   "source": [
    "This model generates the dose profile from an arbitrary activation profile. It is trained on patient-specific data from a set of N pencil beams."
   ]
  },
  {
   "cell_type": "code",
   "execution_count": 1,
   "metadata": {},
   "outputs": [
    {
     "name": "stderr",
     "output_type": "stream",
     "text": [
      "/home/pablocabrales/.local/lib/python3.8/site-packages/torch/cuda/__init__.py:138: UserWarning: CUDA initialization: The NVIDIA driver on your system is too old (found version 11070). Please update your GPU driver by downloading and installing a new version from the URL: http://www.nvidia.com/Download/index.aspx Alternatively, go to: https://pytorch.org to install a PyTorch version that has been compiled with your version of the CUDA driver. (Triggered internally at ../c10/cuda/CUDAFunctions.cpp:108.)\n",
      "  return torch._C._cuda_getDeviceCount() > 0\n"
     ]
    }
   ],
   "source": [
    "import os\n",
    "import matplotlib.pyplot as plt\n",
    "import numpy as np\n",
    "import torch\n",
    "import torch.nn as nn\n",
    "import torch.nn.functional as F\n",
    "from torch.utils.data import Dataset, DataLoader\n",
    "from torchvision.transforms import Compose, Normalize\n",
    "from tqdm import tqdm\n",
    "import random\n",
    "device = torch.device(\"cuda\" if torch.cuda.is_available() else \"cpu\")"
   ]
  },
  {
   "cell_type": "code",
   "execution_count": 2,
   "metadata": {},
   "outputs": [],
   "source": [
    "def set_seed(seed):\n",
    "    \"\"\"\n",
    "    Set all the random seeds to a fixed value and take out any randomness\n",
    "    \"\"\"\n",
    "    random.seed(seed)\n",
    "    np.random.seed(seed)\n",
    "    torch.manual_seed(seed)\n",
    "    torch.cuda.manual_seed_all(seed)\n",
    "    torch.backends.cudnn.benchmark = False # uses the inbuilt cudnn auto-tuner to find th\n",
    "    torch.backends.cudnn.enabled = False\n",
    "    return True\n",
    "\n",
    "seed = 42\n",
    "set_seed(seed)"
   ]
  },
  {
   "cell_type": "code",
   "execution_count": 3,
   "metadata": {},
   "outputs": [],
   "source": [
    "# Creating a dataset for the dose/activity input/output pairs\n",
    "\n",
    "class DoseActivityDataset(Dataset):\n",
    "    def __init__(self, input_dir, output_dir, transform=None):\n",
    "        self.input_dir = input_dir\n",
    "        self.output_dir = output_dir\n",
    "        self.transform = transform\n",
    "        self.file_names = os.listdir(input_dir)\n",
    "\n",
    "    def __len__(self):\n",
    "        return len(self.file_names)\n",
    "\n",
    "    def __getitem__(self, idx):\n",
    "        # Load activity and dose images (numpy arrays)\n",
    "        input_volume = np.load(os.path.join(self.input_dir, self.file_names[idx]))\n",
    "        output_volume = np.load(os.path.join(self.output_dir, self.file_names[idx]))\n",
    "\n",
    "        # Convert numpy arrays to PyTorch tensors\n",
    "        input_volume = torch.tensor(input_volume, dtype=torch.float32)\n",
    "        output_volume = torch.tensor(output_volume, dtype=torch.float32)\n",
    "\n",
    "        # Apply transforms\n",
    "        if self.transform:\n",
    "            input_volume = self.transform(input_volume)\n",
    "            output_volume = self.transform(output_volume)\n",
    "\n",
    "        return input_volume, output_volume"
   ]
  },
  {
   "cell_type": "code",
   "execution_count": 4,
   "metadata": {},
   "outputs": [],
   "source": [
    "def min_max_zeros(dataset):\n",
    "    min_x, min_y, min_z, max_x, max_y, max_z= float('inf'), float('inf'), float('inf'), -float('inf'), -float('inf'), -float('inf')\n",
    "    for arr in dataset:\n",
    "        arr = arr[0].numpy()\n",
    "        non_zero_indices = np.nonzero(arr)\n",
    "        if non_zero_indices[0].size == 0:\n",
    "            continue  # Skip arrays with all zeros\n",
    "        min_x = min(min_x, non_zero_indices[0].min())\n",
    "        min_y = min(min_y, non_zero_indices[1].min())\n",
    "        min_z = min(min_z, non_zero_indices[2].min())\n",
    "        max_x = max(max_x, non_zero_indices[0].max())\n",
    "        max_y = max(max_y, non_zero_indices[1].max())\n",
    "        max_z = max(max_z, non_zero_indices[2].max())\n",
    "    \n",
    "    if min_x == float('inf'):  # All arrays were zero\n",
    "        return None, None, None, None\n",
    "    \n",
    "    return min_x, min_y, min_z, max_x, max_y, max_z"
   ]
  },
  {
   "cell_type": "code",
   "execution_count": 5,
   "metadata": {},
   "outputs": [],
   "source": [
    "def plot_examples(dataloader, num_examples=3):\n",
    "    \"\"\"\n",
    "    Plot a few input-output image pairs side by side.\n",
    "    \"\"\"\n",
    "    fig, axes = plt.subplots(num_examples, 2, figsize=(10, num_examples * 3))\n",
    "    \n",
    "    # Load a batch of data\n",
    "    inputs, outputs = next(iter(dataloader))\n",
    "    \n",
    "    for i in range(num_examples):\n",
    "        # Convert tensors to numpy arrays for plotting\n",
    "        input_img = inputs[i].numpy()\n",
    "        output_img = outputs[i].numpy()\n",
    "\n",
    "        # Plot input image\n",
    "        axes[i, 0].imshow(input_img[:,30,:], cmap='jet')\n",
    "        axes[i, 0].axis('off')\n",
    "        axes[i, 0].set_title('Input')\n",
    "\n",
    "        # Plot output image\n",
    "        axes[i, 1].imshow(output_img[:,30,:], cmap='jet')\n",
    "        axes[i, 1].axis('off')\n",
    "        axes[i, 1].set_title('Output')\n",
    "\n",
    "    plt.tight_layout()\n",
    "    plt.show()\n"
   ]
  },
  {
   "cell_type": "code",
   "execution_count": 6,
   "metadata": {},
   "outputs": [],
   "source": [
    "# Create dataset\n",
    "input_dir = \"/home/pablocabrales/phd/prototwin/deep-learning-dose-activity-dictionary/data/dataset_1/input\"\n",
    "output_dir = \"/home/pablocabrales/phd/prototwin/deep-learning-dose-activity-dictionary/data/dataset_1/output\"\n",
    "dataset = DoseActivityDataset(input_dir=input_dir, output_dir=output_dir)"
   ]
  },
  {
   "cell_type": "code",
   "execution_count": 7,
   "metadata": {},
   "outputs": [
    {
     "name": "stdout",
     "output_type": "stream",
     "text": [
      "\n",
      "Max. pixel value:  tensor(1.7197)\n",
      "Min. pixel value:  tensor(0.)\n",
      "\n",
      "Mean pixel value normalized: 0.002\n",
      "Standard deviation of the normalized pixel values: 0.036\n"
     ]
    },
    {
     "data": {
      "image/png": "[encoded data removed]",
      "text/plain": [
       "<Figure size 640x480 with 1 Axes>"
      ]
     },
     "metadata": {},
     "output_type": "display_data"
    }
   ],
   "source": [
    "# Find and show statistics of the dataset\n",
    "all_data = [x[0] for x in dataset]\n",
    "all_data = torch.stack(all_data)\n",
    "mean_value = all_data.mean()\n",
    "std_value = all_data.std()\n",
    "max_value = all_data.max()\n",
    "min_value = all_data.min()\n",
    "\n",
    "print('\\nMax. pixel value: ', max_value)\n",
    "print('Min. pixel value: ', min_value)\n",
    "\n",
    "print(f'\\nMean pixel value normalized: {mean_value:0.3f}')\n",
    "print(f'Standard deviation of the normalized pixel values: {std_value:0.3f}')\n",
    "\n",
    "# Plot the histogram\n",
    "data_flat = all_data.flatten().cpu().numpy()\n",
    "plt.hist(data_flat[data_flat >0.01], bins=20)\n",
    "\n",
    "# Transformations\n",
    "transforms = Compose([#RandomRotation(10),\n",
    "                      #RandAugment(),\n",
    "                      #ToTensor(),\n",
    "                      Normalize(mean_value, std_value)\n",
    "                      ])\n",
    "\n",
    "\n",
    "# Create dataset again, now normalizing the data\n",
    "dataset = DoseActivityDataset(input_dir=input_dir, output_dir=output_dir, transform=transforms)\n",
    "\n",
    "# Split dataset into 60% training, 20% validation, 20% testing\n",
    "train_size = int(0.6 * len(dataset))\n",
    "test_size = int(0.2 * len(dataset))\n",
    "val_size = len(dataset) - train_size - test_size\n",
    "train_dataset, val_dataset, test_dataset = torch.utils.data.random_split(dataset, [train_size, val_size, test_size])"
   ]
  },
  {
   "cell_type": "code",
   "execution_count": 15,
   "metadata": {},
   "outputs": [
    {
     "name": "stdout",
     "output_type": "stream",
     "text": [
      "Batch shape: \n",
      "Input shape: torch.Size([3, 150, 60, 70]), Output shape: torch.Size([3, 150, 60, 70])\n"
     ]
    }
   ],
   "source": [
    "# Create DataLoaders for training\n",
    "train_loader = DataLoader(train_dataset, batch_size=32, shuffle=True, num_workers=4)\n",
    "val_loader = DataLoader(val_dataset, batch_size=32, shuffle=False, num_workers=4)\n",
    "test_loader = DataLoader(test_dataset, batch_size=32, shuffle=False, num_workers=4)\n",
    "\n",
    "for batch in train_loader:\n",
    "    data, labels = batch\n",
    "    print(f\"Batch shape: \\nInput shape: {data.shape}, Output shape: {labels.shape}\")\n",
    "    break"
   ]
  },
  {
   "cell_type": "code",
   "execution_count": 9,
   "metadata": {},
   "outputs": [],
   "source": [
    "# Use the function\n",
    "# plot_examples(train_loader)"
   ]
  },
  {
   "cell_type": "code",
   "execution_count": 10,
   "metadata": {},
   "outputs": [],
   "source": [
    "class BasicCNN(nn.Module):\n",
    "    def __init__(self):\n",
    "        super(BasicCNN, self).__init__()\n",
    "\n",
    "        # Input shape: [batch_size, 1, 70, 60, 150]\n",
    "        self.conv1 = nn.Conv3d(1, 8, kernel_size=3, stride=1, padding=1)\n",
    "        self.conv2 = nn.Conv3d(8, 64, kernel_size=3, stride=1, padding=1)\n",
    "        self.conv3 = nn.Conv3d(64, 8, kernel_size=3, stride=1, padding=1)\n",
    "        self.conv4 = nn.Conv3d(8, 1, kernel_size=3, stride=1, padding=1)\n",
    "\n",
    "    def forward(self, x):\n",
    "        x = x.unsqueeze(1)\n",
    "        x = F.relu(self.conv1(x))\n",
    "        x = F.relu(self.conv2(x))\n",
    "        x = F.relu(self.conv3(x))\n",
    "        x = F.relu(self.conv4(x))\n",
    "\n",
    "        return x.squeeze(1)\n",
    "\n",
    "# Create the model\n",
    "model = BasicCNN().to(device)\n"
   ]
  },
  {
   "cell_type": "code",
   "execution_count": 11,
   "metadata": {},
   "outputs": [],
   "source": [
    "class UNet(nn.Module):\n",
    "    def __init__(self):\n",
    "        super(UNet, self).__init__()\n",
    "\n",
    "        self.activation = nn.Mish()  # Activation function\n",
    "        self.pool = nn.MaxPool3d(2, stride=2)  # Pooling\n",
    "        \n",
    "        # Encoder layers\n",
    "\n",
    "        self.e11 = nn.Conv3d(1, 16, kernel_size=3, padding=1)\n",
    "        self.e12 = nn.Conv3d(16, 16, kernel_size=3, padding=1)\n",
    "\n",
    "        self.e21 = nn.Conv3d(16, 64, kernel_size=3, padding=1)\n",
    "        self.e22 = nn.Conv3d(64, 64, kernel_size=3, padding=1)\n",
    "        \n",
    "        # Middle layers\n",
    "\n",
    "        self.m1 = nn.Conv3d(64, 128, kernel_size=3, padding=1)\n",
    "        self.m2 = nn.Conv3d(128, 128, kernel_size=3, padding=1)\n",
    "        \n",
    "        # Decoder layers\n",
    "\n",
    "        self.upconv1 = nn.ConvTranspose3d(128, 64, kernel_size=2, stride=2, output_padding=(1, 0, 1))  # Upscaling\n",
    "        self.d11 = nn.Conv3d(128, 64, kernel_size=3, padding=1)\n",
    "        self.d12 = nn.Conv3d(64, 64, kernel_size=3, padding=1)\n",
    "\n",
    "        self.upconv2 = nn.ConvTranspose3d(64, 48, kernel_size=2, stride=2)  # Upscaling\n",
    "        self.d21 = nn.Conv3d(64, 16, kernel_size=3, padding=1)\n",
    "        self.d22 = nn.Conv3d(16, 16, kernel_size=3, padding=1)\n",
    "\n",
    "        self.output = nn.Conv3d(16, 1, kernel_size=3, padding=1)\n",
    "\n",
    "    def forward(self, x):\n",
    "        x = x.unsqueeze(1)\n",
    "\n",
    "        x_e11 = self.activation(self.e11(x))\n",
    "        x_e12 = self.activation(self.e12(x_e11))\n",
    "        x_pool1 = self.pool(x_e12)\n",
    "\n",
    "        x_e21 = self.activation(self.e12(x_pool1))\n",
    "        x_e22 = self.activation(self.e21(x_e21))\n",
    "        x_pool2 = self.pool(x_e22)\n",
    "\n",
    "        x_m1 = self.activation(self.m1(x_pool2))\n",
    "        x_m2 = self.activation(self.m2(x_m1))\n",
    "\n",
    "        x_upconv1 = self.upconv1(x_m2)\n",
    "        x_upconv1 = torch.cat([x_upconv1, x_e22], dim=1)  # Concatenating\n",
    "        x_d11 = self.activation(self.d11(x_upconv1))\n",
    "        x_d12 = self.activation(self.d12(x_d11))\n",
    "\n",
    "        x_upconv2 = self.upconv2(x_d12)\n",
    "        x_upconv2 = torch.cat([x_upconv2, x_e12], dim=1)  # Concatenating\n",
    "        x_d21 = self.activation(self.d21(x_upconv2))\n",
    "        x_d22 = self.activation(self.d22(x_d21))\n",
    "\n",
    "        x_out = self.output(x_d22)\n",
    "\n",
    "        return x_out.squeeze(1)\n",
    "\n",
    "\n",
    "# Create the model\n",
    "model = UNet().to(device)\n"
   ]
  },
  {
   "cell_type": "code",
   "execution_count": 12,
   "metadata": {},
   "outputs": [],
   "source": [
    "def dice_loss(output, target, smooth=1e-3):\n",
    "    # Compute the intersection and the sum of the two sets along specified dimensions\n",
    "    intersection = (target * output).sum(dim=(1, 2, 3))\n",
    "    total_sum = target.sum(dim=(1, 2, 3)) + output.sum(dim=(1, 2, 3))\n",
    "\n",
    "    # Compute Dice coefficient\n",
    "    dice_coeff = (2. * intersection + smooth) / (total_sum + smooth)\n",
    "\n",
    "    # Compute and return Dice loss averaged over the batch\n",
    "    return 1. - dice_coeff.mean()"
   ]
  },
  {
   "cell_type": "code",
   "execution_count": 13,
   "metadata": {},
   "outputs": [
    {
     "name": "stderr",
     "output_type": "stream",
     "text": [
      "  0%|          | 0/1 [00:00<?, ?it/s]"
     ]
    },
    {
     "name": "stdout",
     "output_type": "stream",
     "text": [
      "torch.Size([3, 150, 60, 70]) torch.Size([3, 150, 60, 70])\n"
     ]
    },
    {
     "name": "stderr",
     "output_type": "stream",
     "text": [
      "100%|██████████| 1/1 [00:15<00:00, 15.34s/it]\n",
      "  0%|          | 0/1 [00:00<?, ?it/s]"
     ]
    },
    {
     "name": "stdout",
     "output_type": "stream",
     "text": [
      "torch.Size([3, 150, 60, 70]) torch.Size([3, 150, 60, 70])\n"
     ]
    },
    {
     "name": "stderr",
     "output_type": "stream",
     "text": [
      "100%|██████████| 1/1 [00:15<00:00, 15.92s/it]\n",
      "  0%|          | 0/1 [00:00<?, ?it/s]"
     ]
    },
    {
     "name": "stdout",
     "output_type": "stream",
     "text": [
      "torch.Size([3, 150, 60, 70]) torch.Size([3, 150, 60, 70])\n"
     ]
    },
    {
     "name": "stderr",
     "output_type": "stream",
     "text": [
      "100%|██████████| 1/1 [00:16<00:00, 16.92s/it]\n",
      "  0%|          | 0/1 [00:00<?, ?it/s]"
     ]
    },
    {
     "name": "stdout",
     "output_type": "stream",
     "text": [
      "torch.Size([3, 150, 60, 70]) torch.Size([3, 150, 60, 70])\n"
     ]
    },
    {
     "name": "stderr",
     "output_type": "stream",
     "text": [
      "100%|██████████| 1/1 [00:15<00:00, 15.94s/it]\n",
      "  0%|          | 0/1 [00:00<?, ?it/s]"
     ]
    },
    {
     "name": "stdout",
     "output_type": "stream",
     "text": [
      "torch.Size([3, 150, 60, 70]) torch.Size([3, 150, 60, 70])\n"
     ]
    },
    {
     "name": "stderr",
     "output_type": "stream",
     "text": [
      "100%|██████████| 1/1 [00:15<00:00, 15.44s/it]\n",
      "  0%|          | 0/1 [00:00<?, ?it/s]"
     ]
    },
    {
     "name": "stdout",
     "output_type": "stream",
     "text": [
      "torch.Size([3, 150, 60, 70]) torch.Size([3, 150, 60, 70])\n"
     ]
    },
    {
     "name": "stderr",
     "output_type": "stream",
     "text": [
      "100%|██████████| 1/1 [00:15<00:00, 15.58s/it]\n",
      "  0%|          | 0/1 [00:00<?, ?it/s]"
     ]
    },
    {
     "name": "stdout",
     "output_type": "stream",
     "text": [
      "torch.Size([3, 150, 60, 70]) torch.Size([3, 150, 60, 70])\n"
     ]
    },
    {
     "name": "stderr",
     "output_type": "stream",
     "text": [
      "100%|██████████| 1/1 [00:15<00:00, 15.90s/it]\n",
      "  0%|          | 0/1 [00:00<?, ?it/s]"
     ]
    },
    {
     "name": "stdout",
     "output_type": "stream",
     "text": [
      "torch.Size([3, 150, 60, 70]) torch.Size([3, 150, 60, 70])\n"
     ]
    },
    {
     "name": "stderr",
     "output_type": "stream",
     "text": [
      "100%|██████████| 1/1 [00:17<00:00, 17.88s/it]\n",
      "  0%|          | 0/1 [00:00<?, ?it/s]"
     ]
    },
    {
     "name": "stdout",
     "output_type": "stream",
     "text": [
      "torch.Size([3, 150, 60, 70]) torch.Size([3, 150, 60, 70])\n"
     ]
    },
    {
     "name": "stderr",
     "output_type": "stream",
     "text": [
      "100%|██████████| 1/1 [00:20<00:00, 20.51s/it]\n",
      "  0%|          | 0/1 [00:00<?, ?it/s]"
     ]
    },
    {
     "name": "stdout",
     "output_type": "stream",
     "text": [
      "torch.Size([3, 150, 60, 70]) torch.Size([3, 150, 60, 70])\n"
     ]
    },
    {
     "name": "stderr",
     "output_type": "stream",
     "text": [
      "100%|██████████| 1/1 [00:43<00:00, 43.35s/it]\n"
     ]
    }
   ],
   "source": [
    "def train(model, dataloader, epochs=10):\n",
    "    # Initializing the optimizer for the model parameters\n",
    "    optim = torch.optim.Adam(model.parameters())\n",
    "    for epoch in range(epochs):\n",
    "        for batch_input, batch_target in tqdm(dataloader):\n",
    "            batch_input = batch_input.to(device)\n",
    "            optim.zero_grad()  # resetting gradients\n",
    "            batch_output = model(batch_input)  # generating images\n",
    "            loss = dice_loss(batch_output, batch_target)\n",
    "            loss.backward()  # backprop\n",
    "            optim.step()\n",
    "    return model\n",
    "\n",
    "trained_model = train(model, train_loader)"
   ]
  },
  {
   "cell_type": "code",
   "execution_count": 17,
   "metadata": {},
   "outputs": [
    {
     "data": {
      "image/png": "[encoded data removed]",
      "text/plain": [
       "<Figure size 1000x600 with 6 Axes>"
      ]
     },
     "metadata": {},
     "output_type": "display_data"
    }
   ],
   "source": [
    "# Plotting a few examples\n",
    "input, target = next(iter(train_loader))\n",
    "trained_model_eval = trained_model.eval()  # Putting the model in training mode\n",
    "fig, axs = plt.subplots(2, 3, figsize=[10, 6])\n",
    "for n, idx in enumerate(torch.randint(0,input.shape[0], (3,))):\n",
    "    output = trained_model_eval(input[idx].unsqueeze(0))\n",
    "    axs[0, n].imshow(input[idx].squeeze()[:,30,:], cmap='gray')\n",
    "    axs[1, n].imshow(output.cpu().detach().squeeze()[:,30,:], cmap='gray')\n",
    "    "
   ]
  }
 ],
 "metadata": {
  "kernelspec": {
   "display_name": "Python 3",
   "language": "python",
   "name": "python3"
  },
  "language_info": {
   "codemirror_mode": {
    "name": "ipython",
    "version": 3
   },
   "file_extension": ".py",
   "mimetype": "text/x-python",
   "name": "python",
   "nbconvert_exporter": "python",
   "pygments_lexer": "ipython3",
   "version": "3.8.10"
  }
 },
 "nbformat": 4,
 "nbformat_minor": 2
}
