{
 "cells": [
  {
   "cell_type": "code",
   "execution_count": 2,
   "metadata": {},
   "outputs": [
    {
     "name": "stdout",
     "output_type": "stream",
     "text": [
      "Using cpu\n"
     ]
    },
    {
     "name": "stderr",
     "output_type": "stream",
     "text": [
      "/home/petgfn/miniconda3/lib/python3.8/site-packages/torch/cuda/__init__.py:138: UserWarning: CUDA initialization: The NVIDIA driver on your system is too old (found version 10010). Please update your GPU driver by downloading and installing a new version from the URL: http://www.nvidia.com/Download/index.aspx Alternatively, go to: https://pytorch.org to install a PyTorch version that has been compiled with your version of the CUDA driver. (Triggered internally at ../c10/cuda/CUDAFunctions.cpp:108.)\n",
      "  return torch._C._cuda_getDeviceCount() > 0\n"
     ]
    }
   ],
   "source": [
    "import os\n",
    "import matplotlib.pyplot as plt\n",
    "import torch\n",
    "import torch.nn.functional as F\n",
    "from monai import transforms\n",
    "from monai.config import print_config\n",
    "from monai.utils import first, set_determinism\n",
    "from torch import nn\n",
    "from torch.cuda.amp import GradScaler, autocast\n",
    "from tqdm import tqdm\n",
    "from generative.networks.nets import AutoencoderKL, DiffusionModelUNet, PatchDiscriminator\n",
    "from generative.networks.schedulers import DDPMScheduler\n",
    "\n",
    "from torch.utils.data import DataLoader\n",
    "from torchvision.transforms import Compose, Normalize\n",
    "from utils import set_seed, DoseActivityDataset, JointCompose, Resize3D\n",
    "\n",
    "device = torch.device(\"cuda\" if torch.cuda.is_available() else \"cpu\")\n",
    "print(f\"Using {device}\")"
   ]
  },
  {
   "cell_type": "code",
   "execution_count": null,
   "metadata": {},
   "outputs": [],
   "source": [
    "# Creating the dataset\n",
    "input_dir = \"data/dataset_1/input\"\n",
    "output_dir = \"data/dataset_1/output\"\n",
    "\n",
    "# Statistics of the dataset (previously found for the entire Prostate dataset)\n",
    "mean_input = 0.002942\n",
    "std_input = 0.036942\n",
    "max_input = 1.977781\n",
    "min_input = 0.0\n",
    "\n",
    "mean_output = 0.00000057475\n",
    "std_output = 0.00000662656\n",
    "max_output = 0.00060621166\n",
    "min_output = 0.0\n",
    "\n",
    "# Transformations\n",
    "input_transform = Compose([\n",
    "    # GaussianBlurFloats(p=0.3, sigma=1),\n",
    "    Normalize(mean_input, std_input)\n",
    "])\n",
    "\n",
    "output_transform = Compose([\n",
    "    Normalize(mean_output, std_output)\n",
    "])\n",
    "\n",
    "\n",
    "img_size = (128, 64, 64)\n",
    "joint_transform = JointCompose([\n",
    "    Resize3D(img_size)\n",
    "])\n",
    "\n",
    "\n",
    "set_seed(seed)\n",
    "\n",
    "num_samples = 948\n",
    "# Create dataset applying the transforms\n",
    "dataset = DoseActivityDataset(input_dir=input_dir, output_dir=output_dir,\n",
    "                              input_transform=input_transform, output_transform=output_transform, joint_transform=joint_transform,\n",
    "                              num_samples=num_samples)\n",
    "\n",
    "# Split dataset into 80% training, 15% validation, 5% testing\n",
    "train_size = int(0.8 * len(dataset))\n",
    "val_size = int(0.15 * len(dataset))\n",
    "test_size = len(dataset) - train_size - val_size\n",
    "train_dataset, val_dataset, test_dataset = torch.utils.data.random_split(dataset, [train_size, val_size, test_size])\n",
    "\n",
    "# Create DataLoaders for training\n",
    "batch_size = 8\n",
    "num_workers = 4\n",
    "train_loader = DataLoader(train_dataset, batch_size=batch_size, shuffle=True, num_workers=num_workers)\n",
    "val_loader = DataLoader(val_dataset, batch_size=batch_size, shuffle=False, num_workers=num_workers)\n",
    "test_loader = DataLoader(test_dataset, batch_size=batch_size, shuffle=False, num_workers=num_workers)\n"
   ]
  }
 ],
 "metadata": {
  "kernelspec": {
   "display_name": "base",
   "language": "python",
   "name": "python3"
  },
  "language_info": {
   "codemirror_mode": {
    "name": "ipython",
    "version": 3
   },
   "file_extension": ".py",
   "mimetype": "text/x-python",
   "name": "python",
   "nbconvert_exporter": "python",
   "pygments_lexer": "ipython3",
   "version": "3.8.5"
  }
 },
 "nbformat": 4,
 "nbformat_minor": 2
}
